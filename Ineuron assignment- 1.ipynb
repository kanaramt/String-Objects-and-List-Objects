{
 "cells": [
  {
   "cell_type": "markdown",
   "id": "fed1a263",
   "metadata": {},
   "source": [
    "# Assignment 1:- String Objects and List Objects\n",
    "\n",
    "Q1 :- Write a program which will find all such numbers which are divisible by 7 but are not a multiple of 5, between 2000 and 3200 (both included). The numbers obtained should be printed\n",
    "in a comma-separated sequence on a single line."
   ]
  },
  {
   "cell_type": "code",
   "execution_count": 1,
   "id": "940087fa",
   "metadata": {},
   "outputs": [
    {
     "name": "stdout",
     "output_type": "stream",
     "text": [
      "\n",
      "*\n",
      "**\n",
      "***\n",
      "****\n",
      "*****\n",
      "****\n",
      "***\n",
      "**\n",
      "*\n",
      "\n"
     ]
    }
   ],
   "source": [
    "for i in range(1):\n",
    "    for j in range(1):\n",
    "        for k in range(1):\n",
    "            for l in range(1):\n",
    "                for m in range(1):\n",
    "                    for n in range(6):\n",
    "                        print('*'*n)\n",
    "                    print('*'*(n-1))\n",
    "                print('*'*(n-2))\n",
    "            print('*'*(n-3))\n",
    "        print('*'*(n-4))\n",
    "    print('*'*(n-5))"
   ]
  },
  {
   "cell_type": "markdown",
   "id": "46016c10",
   "metadata": {},
   "source": [
    "Question 2. Write a python program to reverse a word after accepting from the user ?"
   ]
  },
  {
   "cell_type": "code",
   "execution_count": 3,
   "id": "0a1295f0",
   "metadata": {},
   "outputs": [
    {
     "name": "stdout",
     "output_type": "stream",
     "text": [
      "enter a word: Ineuron\n"
     ]
    },
    {
     "data": {
      "text/plain": [
       "['n', 'o', 'r', 'u', 'e', 'n', 'I']"
      ]
     },
     "execution_count": 3,
     "metadata": {},
     "output_type": "execute_result"
    }
   ],
   "source": [
    "s=str(input('enter a word: '))\n",
    "l=list(s)\n",
    "word=l[::-1]\n",
    "word"
   ]
  },
  {
   "cell_type": "code",
   "execution_count": null,
   "id": "f82b2d47",
   "metadata": {},
   "outputs": [],
   "source": []
  }
 ],
 "metadata": {
  "kernelspec": {
   "display_name": "Python 3",
   "language": "python",
   "name": "python3"
  },
  "language_info": {
   "codemirror_mode": {
    "name": "ipython",
    "version": 3
   },
   "file_extension": ".py",
   "mimetype": "text/x-python",
   "name": "python",
   "nbconvert_exporter": "python",
   "pygments_lexer": "ipython3",
   "version": "3.9.5"
  }
 },
 "nbformat": 4,
 "nbformat_minor": 5
}
