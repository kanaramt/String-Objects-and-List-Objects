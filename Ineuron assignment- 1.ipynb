{
 "cells": [
  {
   "cell_type": "markdown",
   "id": "a491955d",
   "metadata": {},
   "source": [
    "# Assignment 1:- String Objects and List Objects"
   ]
  },
  {
   "cell_type": "code",
   "execution_count": 1,
   "id": "5a730987",
   "metadata": {},
   "outputs": [
    {
     "name": "stdout",
     "output_type": "stream",
     "text": [
      "\n",
      "*\n",
      "**\n",
      "***\n",
      "****\n",
      "*****\n",
      "****\n",
      "***\n",
      "**\n",
      "*\n",
      "\n"
     ]
    }
   ],
   "source": [
    "for i in range(1):\n",
    "    for j in range(1):\n",
    "        for k in range(1):\n",
    "            for l in range(1):\n",
    "                for m in range(1):\n",
    "                    for n in range(6):\n",
    "                        print('*'*n)\n",
    "                    print('*'*(n-1))\n",
    "                print('*'*(n-2))\n",
    "            print('*'*(n-3))\n",
    "        print('*'*(n-4))\n",
    "    print('*'*(n-5))"
   ]
  },
  {
   "cell_type": "code",
   "execution_count": 2,
   "id": "55629dbc",
   "metadata": {},
   "outputs": [
    {
     "name": "stdout",
     "output_type": "stream",
     "text": [
      "enter a word:kanha\n"
     ]
    },
    {
     "data": {
      "text/plain": [
       "['a', 'h', 'n', 'a', 'k']"
      ]
     },
     "execution_count": 2,
     "metadata": {},
     "output_type": "execute_result"
    }
   ],
   "source": [
    "s=str(input('enter a word:'))\n",
    "l=list(s)\n",
    "word=l[::-1]\n",
    "word"
   ]
  },
  {
   "cell_type": "code",
   "execution_count": null,
   "id": "d9fccd52",
   "metadata": {},
   "outputs": [],
   "source": []
  }
 ],
 "metadata": {
  "kernelspec": {
   "display_name": "Python 3",
   "language": "python",
   "name": "python3"
  },
  "language_info": {
   "codemirror_mode": {
    "name": "ipython",
    "version": 3
   },
   "file_extension": ".py",
   "mimetype": "text/x-python",
   "name": "python",
   "nbconvert_exporter": "python",
   "pygments_lexer": "ipython3",
   "version": "3.9.5"
  }
 },
 "nbformat": 4,
 "nbformat_minor": 5
}
